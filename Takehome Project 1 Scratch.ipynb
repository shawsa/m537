{
 "cells": [
  {
   "cell_type": "code",
   "execution_count": 78,
   "metadata": {},
   "outputs": [],
   "source": [
    "from scipy.integrate import quadrature as quad\n",
    "from numpy import sin, pi, exp, vectorize\n",
    "import matplotlib.pyplot as plt\n",
    "import numpy as np"
   ]
  },
  {
   "cell_type": "code",
   "execution_count": 59,
   "metadata": {},
   "outputs": [],
   "source": [
    "def f(x):\n",
    "    return (1-x)*(x+3) - sin(pi*x) + 4*x - 1\n",
    "\n",
    "def prod(x, n):\n",
    "    return f(x)*sin(n*pi*x)\n",
    "\n",
    "def f_2(x,n):\n",
    "    return x**2 * sin(n*pi*x)\n",
    "\n",
    "def f_3(x,n):\n",
    "    return x*sin(n*pi*x)\n",
    "\n",
    "def f_4(x,n):\n",
    "        return sin(n*pi*x)\n",
    "\n",
    "def g_2(n):\n",
    "    return (-1)**(n+1)/(n*pi) + 2*(-1)**n/(n**3 * pi**3) - 2/(n**3 * pi**3)\n",
    "\n",
    "def g_3(n):\n",
    "    return (-1)**(n+1)/(n*pi)\n",
    "\n",
    "def g_4(n):\n",
    "    return (1 + (-1)**(n+1))/(n*pi)\n",
    "\n",
    "def b_n(n):\n",
    "    ret = -2*g_2(n) + 4*g_3(n) + 4*g_4(n)\n",
    "    if n==1:\n",
    "        return ret - 1\n",
    "    else:\n",
    "        return ret\n",
    "    \n",
    "def b_even(n):\n",
    "    assert n%2 == 0\n",
    "    return -2/(n*pi)\n",
    "\n",
    "def b_odd(n):\n",
    "    assert n%2 == 1\n",
    "    return 10/(n*pi) + 8/(n*pi)**3"
   ]
  },
  {
   "cell_type": "code",
   "execution_count": 25,
   "metadata": {},
   "outputs": [
    {
     "data": {
      "text/plain": [
       "-2.9190169943749478"
      ]
     },
     "execution_count": 25,
     "metadata": {},
     "output_type": "execute_result"
    }
   ],
   "source": [
    "f(2.1)"
   ]
  },
  {
   "cell_type": "code",
   "execution_count": 35,
   "metadata": {},
   "outputs": [
    {
     "data": {
      "text/plain": [
       "0.12732395447351627"
      ]
     },
     "execution_count": 35,
     "metadata": {},
     "output_type": "execute_result"
    }
   ],
   "source": [
    "g_4(5)"
   ]
  },
  {
   "cell_type": "code",
   "execution_count": 43,
   "metadata": {},
   "outputs": [
    {
     "data": {
      "text/plain": [
       "(0.12732395422686163, 8.622163316651665e-09)"
      ]
     },
     "execution_count": 43,
     "metadata": {},
     "output_type": "execute_result"
    }
   ],
   "source": [
    "quad(f_4, 0, 1 ,args=(5))\n",
    "\n"
   ]
  },
  {
   "cell_type": "code",
   "execution_count": 52,
   "metadata": {},
   "outputs": [
    {
     "data": {
      "text/plain": [
       "2.4411111373907453"
      ]
     },
     "execution_count": 52,
     "metadata": {},
     "output_type": "execute_result"
    }
   ],
   "source": [
    "2*quad(prod, 0, 1, args=(1))[0]"
   ]
  },
  {
   "cell_type": "code",
   "execution_count": 45,
   "metadata": {},
   "outputs": [
    {
     "data": {
      "text/plain": [
       "2.441111137303503"
      ]
     },
     "execution_count": 45,
     "metadata": {},
     "output_type": "execute_result"
    }
   ],
   "source": [
    "10/pi + 8/pi**3 - 1"
   ]
  },
  {
   "cell_type": "code",
   "execution_count": 60,
   "metadata": {},
   "outputs": [
    {
     "data": {
      "text/plain": [
       "0.0"
      ]
     },
     "execution_count": 60,
     "metadata": {},
     "output_type": "execute_result"
    }
   ],
   "source": [
    "b_n(3) - b_odd(3)"
   ]
  },
  {
   "cell_type": "code",
   "execution_count": 61,
   "metadata": {},
   "outputs": [
    {
     "data": {
      "text/plain": [
       "1.0705889641483983"
      ]
     },
     "execution_count": 61,
     "metadata": {},
     "output_type": "execute_result"
    }
   ],
   "source": [
    "b_n(3)"
   ]
  },
  {
   "cell_type": "code",
   "execution_count": 81,
   "metadata": {},
   "outputs": [
    {
     "name": "stdout",
     "output_type": "stream",
     "text": [
      "8.72422134534645e-11\n",
      "4.046207813246383e-12\n",
      "7.566147708359949e-11\n",
      "-2.635739404510673e-10\n",
      "-4.838826006547947e-10\n",
      "-4.7743767273011883e-11\n",
      "1.1533581312228591e-09\n",
      "1.4812566451194442e-10\n",
      "-1.7096730142718286e-09\n",
      "-2.755423111899802e-10\n",
      "1.937068838664402e-09\n",
      "3.831515868468749e-10\n",
      "-1.8540128043920134e-09\n",
      "-4.437707215587672e-10\n",
      "1.5829907940023702e-09\n",
      "4.5452860225614344e-10\n",
      "-1.2449393183011637e-09\n",
      "-4.268106215676859e-10\n",
      "9.19784554076486e-10\n"
     ]
    }
   ],
   "source": [
    "for i in range(1, 20):\n",
    "    print(2*quad(prod, 0, 1, args=(i))[0] - b_n(i))"
   ]
  },
  {
   "cell_type": "code",
   "execution_count": 66,
   "metadata": {},
   "outputs": [
    {
     "name": "stdout",
     "output_type": "stream",
     "text": [
      "2.441111137303503\n",
      "-0.3183098861837907\n",
      "1.0705889641483983\n",
      "-0.15915494309189535\n",
      "0.6386838705713062\n",
      "-0.1061032953945969\n",
      "0.4554806312114374\n",
      "-0.07957747154594767\n",
      "0.3540315776191167\n",
      "-0.06366197723675814\n",
      "0.28956647224481774\n",
      "-0.05305164769729845\n",
      "0.24497119705328713\n",
      "-0.04547284088339867\n",
      "0.21228303887081323\n",
      "-0.039788735772973836\n",
      "0.1872936257575047\n",
      "-0.0353677651315323\n",
      "0.16756913564644263\n",
      "-0.03183098861837907\n",
      "0.1516039963660493\n",
      "-0.028937262380344612\n",
      "0.13841680859601532\n",
      "-0.026525823848649224\n",
      "0.12734046725914608\n",
      "-0.024485375860291588\n",
      "0.11790565882006299\n",
      "-0.022736420441699334\n",
      "0.10977260876137379\n",
      "-0.02122065907891938\n",
      "0.10268926919209474\n",
      "-0.019894367886486918\n",
      "0.09646472083971802\n",
      "-0.018724110951987685\n",
      "0.09095169954581694\n",
      "-0.01768388256576615\n",
      "0.0860347926900985\n",
      "-0.016753151904410037\n",
      "0.08162226910654127\n"
     ]
    }
   ],
   "source": [
    "for i in range(1,40):\n",
    "    print(b_n(i))"
   ]
  },
  {
   "cell_type": "code",
   "execution_count": 75,
   "metadata": {},
   "outputs": [],
   "source": [
    "def u(x,t,n):\n",
    "    ret = sin(x) - 4*x + 1\n",
    "    for i in range(1,n+1):\n",
    "        ret += b_n(n)*sin(n*pi*x)*exp(-1*(n*pi)**2*t)\n",
    "    return ret\n",
    "u = vectorize(u)"
   ]
  },
  {
   "cell_type": "code",
   "execution_count": 76,
   "metadata": {},
   "outputs": [
    {
     "data": {
      "text/plain": [
       "array(-0.52057446)"
      ]
     },
     "execution_count": 76,
     "metadata": {},
     "output_type": "execute_result"
    }
   ],
   "source": [
    "u(.5, 10, 20)"
   ]
  },
  {
   "cell_type": "code",
   "execution_count": 84,
   "metadata": {},
   "outputs": [
    {
     "data": {
      "text/plain": [
       "[<matplotlib.lines.Line2D at 0x7f6c23a3cf28>]"
      ]
     },
     "execution_count": 84,
     "metadata": {},
     "output_type": "execute_result"
    },
    {
     "data": {
      "image/png": "[encoded data removed]",
      "text/plain": [
       "<matplotlib.figure.Figure at 0x7f6c23a816d8>"
      ]
     },
     "metadata": {},
     "output_type": "display_data"
    }
   ],
   "source": [
    "x = np.linspace(0,1, 1000)\n",
    "y = u(x, 0, 2000)\n",
    "plt.plot(x,y)"
   ]
  },
  {
   "cell_type": "code",
   "execution_count": 94,
   "metadata": {},
   "outputs": [
    {
     "data": {
      "text/plain": [
       "-6.366197723675814e-08"
      ]
     },
     "execution_count": 94,
     "metadata": {},
     "output_type": "execute_result"
    }
   ],
   "source": [
    "b_n(10**7)"
   ]
  },
  {
   "cell_type": "code",
   "execution_count": 83,
   "metadata": {},
   "outputs": [
    {
     "data": {
      "text/plain": [
       "3.0"
      ]
     },
     "execution_count": 83,
     "metadata": {},
     "output_type": "execute_result"
    }
   ],
   "source": [
    "f(1)"
   ]
  },
  {
   "cell_type": "code",
   "execution_count": 90,
   "metadata": {},
   "outputs": [
    {
     "data": {
      "text/plain": [
       "0.0001"
      ]
     },
     "execution_count": 90,
     "metadata": {},
     "output_type": "execute_result"
    }
   ],
   "source": [
    "10**-4"
   ]
  },
  {
   "cell_type": "code",
   "execution_count": null,
   "metadata": {},
   "outputs": [],
   "source": []
  }
 ],
 "metadata": {
  "kernelspec": {
   "display_name": "Python 3",
   "language": "python",
   "name": "python3"
  },
  "language_info": {
   "codemirror_mode": {
    "name": "ipython",
    "version": 3
   },
   "file_extension": ".py",
   "mimetype": "text/x-python",
   "name": "python",
   "nbconvert_exporter": "python",
   "pygments_lexer": "ipython3",
   "version": "3.5.2"
  }
 },
 "nbformat": 4,
 "nbformat_minor": 2
}
